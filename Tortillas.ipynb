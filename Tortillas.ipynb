{
 "cells": [
  {
   "cell_type": "markdown",
   "metadata": {},
   "source": [
    "# Predictive Analytics for Daily Guest Counts"
   ]
  },
  {
   "cell_type": "markdown",
   "metadata": {},
   "source": [
    "## Phase 1 Proposal"
   ]
  },
  {
   "cell_type": "markdown",
   "metadata": {},
   "source": [
    "### Domain Understanding"
   ]
  },
  {
   "cell_type": "markdown",
   "metadata": {},
   "source": [
    "For the domain understanding part of this project, I used my experience working at Tortillas since the summer of 2022. I've learned a lot about how restaurants work during this time. Also, because Tortillas is in a busy restaurant area, I know a lot about what happens in the neighborhood. I can easily talk to other restaurant workers to learn more. My boss at Tortillas also gave me some good ideas about what might affect how many guests we have, like PSV matches or Effenaar concerts. This helped me figure out what to look for when predicting guest numbers."
   ]
  },
  {
   "cell_type": "markdown",
   "metadata": {},
   "source": [
    "### Data Sourcing"
   ]
  },
  {
   "cell_type": "markdown",
   "metadata": {},
   "source": [
    "For data sourcing, I initially consulted with my boss at Tortillas to explore potential sources of data for my project. Unfortunately, the available data was limited. After two weeks of waiting, I received only the order deliveries data, which did not include sales data, essential for my intended analysis. Additionally, the order deliveries were aggregated on a weekly basis, making it challenging to make daily predictions accurately. The assumption that all purchases for the week corresponded to sales for that same week was not ideal, as sales could fluctuate daily. Furthermore, due to ethical and privacy concerns, accessing additional data, such as financial records, was not possible.\n",
    "\n",
    "Despite these limitations, I realized that I could readily access data on the number of guests visiting Tortillas each day. While this dataset alone may seem insufficient, I recognized the potential to enrich it by incorporating external factors known to influence guest numbers. Factors such as weather conditions, local events, holidays, and special occasions could significantly impact restaurant traffic. With access to this data, I could enhance the complexity of my dataset and improve the accuracy of my predictive model."
   ]
  },
  {
   "cell_type": "markdown",
   "metadata": {},
   "source": [
    "#### Objectives and Target Audience"
   ]
  },
  {
   "cell_type": "markdown",
   "metadata": {},
   "source": [
    "The primary objective of my project is to predict the number of guests visiting Tortillas restaurant each day. By doing so, I aim to assist restaurant management in making informed decisions regarding staffing levels, inventory management, and overall business strategy. The target audience for this project includes restaurant owners, managers, and staff who rely on accurate forecasts to optimize daily operations."
   ]
  },
  {
   "cell_type": "markdown",
   "metadata": {},
   "source": [
    "#### Data Characteristics"
   ]
  },
  {
   "cell_type": "markdown",
   "metadata": {},
   "source": [
    "To achieve our objectives, I require structured data detailing the number of guests visiting Tortillas each day, preferably over a significant historical period to establish trends and patterns. Additionally, I will need unstructured data on external factors such as weather conditions, local events, and holidays. These datasets will provide the necessary context to enhance the predictive capabilities of our model."
   ]
  },
  {
   "cell_type": "markdown",
   "metadata": {},
   "source": [
    "#### Data Sources"
   ]
  },
  {
   "cell_type": "markdown",
   "metadata": {},
   "source": [
    "The data on the number of guests visiting Tortillas each day can be sourced directly from the restaurant's records, provided by my boss. For external factors such as weather conditions and local events, I will need to search the internet or reach out to relevant organizations and authorities for accurate and up-to-date information. This may involve accessing public databases, APIs, or creating an own dataset collecting information from the calendar."
   ]
  },
  {
   "cell_type": "markdown",
   "metadata": {},
   "source": [
    "#### Version Control"
   ]
  },
  {
   "cell_type": "markdown",
   "metadata": {},
   "source": [
    "To maintain version control for my data, I plan to start with a dataset spanning three months of historical guest counts and external factors. As I clean, preprocess, and augment the data, I will maintain a clear version history to ensure reproducibility and scalability. If the initial model proves successful, I will consider expanding the dataset and implementing more advanced version control practices to manage ongoing updates and improvements."
   ]
  },
  {
   "cell_type": "markdown",
   "metadata": {},
   "source": [
    "### Analytic Approach"
   ]
  },
  {
   "cell_type": "markdown",
   "metadata": {},
   "source": [
    "In this phase, a specific goal and approach for the project are defined, focusing on predicting the number of guests visiting the restaurant. The objective is to determine the target variable, understand the nature of the problem, and identify key indicators within the dataset to facilitate accurate predictions."
   ]
  },
  {
   "cell_type": "markdown",
   "metadata": {},
   "source": [
    "#### 🎯 Target Variable:"
   ]
  },
  {
   "cell_type": "markdown",
   "metadata": {},
   "source": [
    "The target variable for the predictive model is the number of guests visiting the restaurant on a given day. This variable represents the \"thing\" aimed to be predicted based on other features in the dataset. By forecasting the daily guest count, assistance can be provided to restaurant management in optimizing staffing levels, inventory management, and overall business strategy."
   ]
  },
  {
   "cell_type": "markdown",
   "metadata": {},
   "source": [
    "#### 🎨 Nature of the Problem:"
   ]
  },
  {
   "cell_type": "markdown",
   "metadata": {},
   "source": [
    "The nature of the target variable determines the type of algorithm suitable for the predictive analytics model. In this case, it involves a regression problem as the aim is to predict a continuous numerical value – the daily guest count. Regression algorithms are well-suited for such problems as they can effectively estimate the relationship between input features and the target variable to make predictions."
   ]
  },
  {
   "cell_type": "markdown",
   "metadata": {},
   "source": [
    "#### 📍 Good Indicators:"
   ]
  },
  {
   "cell_type": "markdown",
   "metadata": {},
   "source": [
    "To identify good indicators for predicting the daily guest count, exploratory data analysis (EDA) is conducted to uncover correlations between the target variable and other features in the dataset. By calculating correlation coefficients, the strength and direction of relationships between variables can be determined. Features exhibiting strong correlations with the number of guests serve as valuable indicators for the predictive model."
   ]
  },
  {
   "cell_type": "markdown",
   "metadata": {},
   "source": [
    "## Phase 2 Provisioning"
   ]
  },
  {
   "cell_type": "markdown",
   "metadata": {},
   "source": [
    "### Data Requirements"
   ]
  },
  {
   "cell_type": "markdown",
   "metadata": {},
   "source": [
    "For the Tortillas project, I use several datasets to add more features. These datasets include:\n",
    "\n",
    "Guest Counts:\n",
    "A dataset containing daily guest counts for Tortillas serves as the primary input. This data reveals the restaurant's foot traffic over time, essential for prediction.\n",
    "\n",
    "Weather data:\n",
    "Weather data are important for the tortillas industry, especially temperature and precipitation. These factors greatly influence consumer behavior and restaurants. Although temperature and precipitation are believed to have the most important effects, we will consider other climate variables to examine relationships and improve forecasts.\n",
    "\n",
    "Effenaar Agenda:\n",
    "An Effenaar agenda dataset lists upcoming events and concerts, including artist, venue, and date/time details. This dataset allows consideration of local events' impact on restaurant attendance.\n",
    "\n",
    "PSV Matches:\n",
    "Information about PSV matches, indicating home or away games and match types (e.g., Eredivisie, Champions League), is included. Sporting events draw crowds to the area, affecting restaurant traffic.\n",
    "\n",
    "Other:\n",
    "Consideration of additional factors affecting restaurant attendance, such as holidays, local festivals, promotions, or community events, is imperative. While these data may not be readily accessible, it is essential to explore avenues for integrating relevant information into the analysis."
   ]
  },
  {
   "cell_type": "markdown",
   "metadata": {},
   "source": [
    "#### Data dictionary"
   ]
  },
  {
   "cell_type": "markdown",
   "metadata": {},
   "source": [
    "| Data Element Name | Data Type  | Units        | Range      | Description                        | Source             | Quality Standards                             | Notes                            |\n",
    "|-------------------|------------|--------------|------------|------------------------------------|--------------------|-----------------------------------------------|----------------------------------|\n",
    "| Guest Counts      | Numerical  | Guests       | 0 to 250     | Daily count of restaurant guests   | Internal database  |                |                                  |\n",
    "| Temperature       | Numerical  | Celsius (°C) | -10 to 35  | Temperature in degrees Celsius     | KNMI       |                 |                                  |\n",
    "| Rain     | Numerical  | Millimeters  | 0 to ∞     | Amount of precipitation            | KNMI        |                    |\n",
    "| Wind Speed        | Numerical  | Meters/second| 0 to 20     | Speed of wind                      |KNMI        |                  |                                  |\n",
    "| Effenaar Agenda   | Categorical| N/A          | N/A        | Upcoming events at Effenaar        | Effenaar website   |                      |                                  |\n",
    "| PSV Matches       | Categorical| N/A          | N/A        | PSV match information              | PSV website        |                         |                                  |\n",
    "| Other Factors     | Categorical| N/A          | N/A        | Additional factors influencing attendance | Various sources |                     | Consider holidays, promotions, NS |\n"
   ]
  },
  {
   "cell_type": "markdown",
   "metadata": {},
   "source": [
    "### Data Collection"
   ]
  },
  {
   "cell_type": "code",
   "execution_count": null,
   "metadata": {},
   "outputs": [],
   "source": [
    "#Import libraries\n",
    "import pandas as pd\n",
    "import seaborn as sns\n",
    "import matplotlib.pyplot as plt\n",
    "pd.options.mode.chained_assignment = None"
   ]
  },
  {
   "cell_type": "markdown",
   "metadata": {},
   "source": [
    "#### Restaurant"
   ]
  },
  {
   "cell_type": "markdown",
   "metadata": {},
   "source": [
    "The data was gathered directly from the restaurant using a system called [Formitable](https://formitable.com/en/). This platform allows me to effortlessly track the number of guests we've served each day. I then manually input this information into my Tortillas.xlsx file for record-keeping."
   ]
  },
  {
   "cell_type": "code",
   "execution_count": null,
   "metadata": {},
   "outputs": [],
   "source": [
    "# Read the data\n",
    "dfTortillas = pd.read_excel(\"Tortillas.xlsx\")\n",
    "dfTortillas.head()"
   ]
  },
  {
   "cell_type": "markdown",
   "metadata": {},
   "source": [
    "Date: Represents the specific date, formatted as YYYY-MM-DD.\n",
    "\n",
    "Day: Indicates the day of the week corresponding to the date.\n",
    "\n",
    "Total guests: Refers to the total number of guests served on the corresponding date."
   ]
  },
  {
   "cell_type": "markdown",
   "metadata": {},
   "source": [
    "#### Weather"
   ]
  },
  {
   "cell_type": "markdown",
   "metadata": {},
   "source": [
    "The weather data was collected from the Royal Netherlands Meteorological Institute (KNMI). KNMI provides historical weather data, including temperature, precipitation, and wind speed, which are usefull factors for this analysis. The data was downloaded in a structured format, which allowed for easy integration into the existing dataset. This comprehensive weather data provides valuable insights into how weather conditions may influence the number of guests visiting the restaurant."
   ]
  },
  {
   "cell_type": "code",
   "execution_count": null,
   "metadata": {},
   "outputs": [],
   "source": [
    "# Read the data\n",
    "dfWeather = pd.read_csv(\"Weather.csv\", sep=\",\")\n",
    "dfWeather.head()"
   ]
  },
  {
   "cell_type": "markdown",
   "metadata": {},
   "source": [
    "The weather dataset contains a wealth of information, including various meteorological factors. However, for the purpose of this analysis, we will focus on the features that are most likely to influence restaurant attendance. Specifically, we will consider the temperature, amount of rainfall, and wind speed. These factors are believed to have a significant impact on consumer behavior and, consequently, the number of guests visiting the restaurant."
   ]
  },
  {
   "cell_type": "code",
   "execution_count": null,
   "metadata": {},
   "outputs": [],
   "source": [
    "dfWeather_selected = dfWeather[['YYYYMMDD', '   TG', '   RH', '   DR', '  RHX', ' RHXH', '   FG']]\n",
    "\n",
    "# Renaming columns for clarity\n",
    "dfWeather_selected.columns = ['Date', 'Temperature', 'Rain', 'Duration rain', 'Max rain', 'Timezone max rain', 'Wind']\n",
    "\n",
    "# Assuming dfWeather_selected is your DataFrame with the 'Date' column\n",
    "dfWeather_selected['Date'] = pd.to_datetime(dfWeather_selected['Date'], format='%Y%m%d')\n",
    "\n",
    "# Converting temperature from 0.1 degrees Celsius to degrees Celsius\n",
    "dfWeather_selected.loc[:, 'Temperature'] = dfWeather_selected['Temperature']\n",
    "dfWeather_selected[\"Temperature\"] *= 0.1\n",
    "\n",
    "# Converting rain from 0.1 mm to mm\n",
    "dfWeather_selected.loc[:, 'Rain'] = dfWeather_selected['Rain']\n",
    "dfWeather_selected[\"Rain\"] *= 0.1\n",
    "\n",
    "# Converting max rain from 0.1 mm to mm\n",
    "dfWeather_selected.loc[:, 'Max rain'] = dfWeather_selected['Max rain']\n",
    "dfWeather_selected[\"Max rain\"] *= 0.1\n",
    "\n",
    "dfWeather_selected.loc[:, 'Timezone max rain'] = dfWeather_selected['Timezone max rain']\n",
    "\n",
    "# Converting wind from 0.1 m/s to m/s\n",
    "dfWeather_selected.loc[:, 'Wind'] = dfWeather_selected['Wind']\n",
    "dfWeather_selected[\"Wind\"] *= 0.1\n",
    "\n",
    "# Converting duration rain from 0.1 hours to hours\n",
    "dfWeather_selected.loc[:, 'Duration rain'] = dfWeather_selected['Duration rain']\n",
    "dfWeather_selected[\"Duration rain\"] *= 0.1\n",
    "\n",
    "dfWeather_selected.head()"
   ]
  },
  {
   "cell_type": "markdown",
   "metadata": {},
   "source": [
    "Date = Date (YYYY=year MM=month DD=day)\n",
    "\n",
    "Temperature =  Daily mean temperature in (degrees Celsius)\n",
    "\n",
    "Rain = Daily precipitation amount (in mm) (-0.1 for <0.05 mm)\n",
    "\n",
    "Duration rain = Precipitation duration (in 1 hour)\n",
    "\n",
    "Max rain = Maximum hourly precipitation amount (in mm) (-0.1 for <0.05 mm)\n",
    "\n",
    "Timezone max rain = Hourly division in which Max rain was measured\n",
    "\n",
    "Wind = Daily mean windspeed (in m/s)"
   ]
  },
  {
   "cell_type": "markdown",
   "metadata": {},
   "source": [
    "#### PSV"
   ]
  },
  {
   "cell_type": "markdown",
   "metadata": {},
   "source": [
    "The PSV data was collected from the PSV fan [website](https://www.supver-psv.nl/nl/seizoen/wedstrijden.html) and then entered manually in a csv file."
   ]
  },
  {
   "cell_type": "code",
   "execution_count": null,
   "metadata": {},
   "outputs": [],
   "source": [
    "dfPsv = pd.read_csv(\"Psv.csv\", sep=\",\", encoding=\"ISO-8859-1\")\n",
    "dfPsv.head()"
   ]
  },
  {
   "cell_type": "markdown",
   "metadata": {},
   "source": [
    "Date: Represents the date on which the match was played, formatted as YYYY-MM-DD.\n",
    "\n",
    "Time: Indicates the time at which the match started, typically in HH:MM format using the 24-hour clock.\n",
    "\n",
    "Type: Specifies the type of match that took place, such as Eredivisie, KNVB Beker, or Champions League.\n",
    "\n",
    "Cancelled: Denotes whether the match was cancelled or not, with 0 indicating that the match was not cancelled and 1 indicating that it was cancelled."
   ]
  },
  {
   "cell_type": "markdown",
   "metadata": {},
   "source": [
    "#### Effenaar"
   ]
  },
  {
   "cell_type": "markdown",
   "metadata": {},
   "source": [
    "The Effenaar data was manually collected by the [official site's calendar](https://www.effenaar.nl/agenda)."
   ]
  },
  {
   "cell_type": "code",
   "execution_count": null,
   "metadata": {},
   "outputs": [],
   "source": [
    "dfEffenaar = pd.read_excel(\"Effenaar.xlsx\")\n",
    "dfEffenaar.head()"
   ]
  },
  {
   "cell_type": "markdown",
   "metadata": {},
   "source": [
    "Name: Represents the name or title of the event.\n",
    "\n",
    "Date: Indicates the date of the event, formatted as YYYY-MM-DD.\n",
    "\n",
    "Time: Specifies the time at which the event starts, typically in HH:MM:SS format using the 24-hour clock.\n",
    "\n",
    "Location: Refers to the venue or location where the event is held.\n",
    "\n",
    "Sold out: Denotes whether the event is sold out or not, with 0 indicating that it is not sold out and 1 indicating that it is sold out."
   ]
  },
  {
   "cell_type": "markdown",
   "metadata": {},
   "source": [
    "#### Version control"
   ]
  },
  {
   "cell_type": "markdown",
   "metadata": {},
   "source": [
    "Version control is important, and GitHub provides an excellent platform for this. The initial version of the dataset contains records with dates starting from the beginning of 2024. After approval, the dataset expands, more observations can be added."
   ]
  },
  {
   "cell_type": "markdown",
   "metadata": {},
   "source": [
    "### Data Understanding"
   ]
  },
  {
   "cell_type": "markdown",
   "metadata": {},
   "source": [
    "#### 🤔 Find out what is going on"
   ]
  },
  {
   "cell_type": "markdown",
   "metadata": {},
   "source": [
    "To understand the functionality of the data, we initially need to consolidate it by merging relevant datasets. Once combined, we can explore potential correlations within the data. To facilitate this exploration, I've introduced a new column indicating the count of PSV matches and Effenaar concerts held on each respective day. This approach allows us to analyze any potential relationships or patterns between the occurrence of these events and other variables within the dataset."
   ]
  },
  {
   "cell_type": "code",
   "execution_count": null,
   "metadata": {},
   "outputs": [],
   "source": [
    "# Convert 'Date' column to datetime format for other DataFrames\n",
    "dfTortillas['Date'] = pd.to_datetime(dfTortillas['Date'])\n",
    "dfPsv['Date'] = pd.to_datetime(dfPsv['Date'])\n",
    "dfEffenaar['Date'] = pd.to_datetime(dfEffenaar['Date'])\n",
    "\n",
    "# Count the number of events for each date in dfPsv and dfEffenaar\n",
    "dfPsv_count = dfPsv.groupby('Date').size().reset_index(name='PSV_Count')\n",
    "dfEffenaar_count = dfEffenaar.groupby('Date').size().reset_index(name='Effenaar_Count')\n",
    "\n",
    "# Merge the counts with dfTortillas\n",
    "combined_data = pd.merge(dfTortillas, dfPsv_count, on='Date', how='left')\n",
    "finalDf = pd.merge(combined_data, dfEffenaar_count, on='Date', how='left')\n",
    "\n",
    "# Fill NaN values with 0\n",
    "finalDf.fillna(0, inplace=True)\n",
    "\n",
    "# Merge dfWeather_selected with finalDf\n",
    "finalDf = pd.merge(finalDf, dfWeather_selected, on='Date', how='left')\n",
    "\n",
    "# Drop rows where any value is NaN\n",
    "finalDf.dropna(inplace=True)\n",
    "\n",
    "finalDf.head()\n"
   ]
  },
  {
   "cell_type": "code",
   "execution_count": null,
   "metadata": {},
   "outputs": [],
   "source": [
    "# Combine the relevant columns into a new DataFrame for correlation analysis\n",
    "correlation_df = finalDf[['Total guests', 'PSV_Count', 'Effenaar_Count', 'Temperature', 'Rain', 'Duration rain', 'Max rain', 'Wind']]\n",
    "\n",
    "# Compute the correlation matrix\n",
    "correlation_matrix = correlation_df.corr()\n",
    "\n",
    "# Generate a heatmap of the correlation matrix\n",
    "plt.figure(figsize=(10, 8))\n",
    "sns.heatmap(correlation_matrix, annot=True, cmap='coolwarm', fmt=\".2f\", linewidths=0.5)\n",
    "plt.title('Correlation Map')\n",
    "plt.show()"
   ]
  },
  {
   "cell_type": "markdown",
   "metadata": {},
   "source": [
    "Upon examining the correlation map, we observe significant influences when PSV plays or if there's a concert at the Effenaar, both resulting in increased guest numbers. Additionally, a slight increase in guests is noticed with rising temperatures, although further data across the four seasons is necessary to confirm this trend. Conversely, rain negatively impacts guest numbers, whereas wind shows minimal effect on attendance."
   ]
  },
  {
   "cell_type": "code",
   "execution_count": null,
   "metadata": {},
   "outputs": [],
   "source": [
    "# Calculate the average total guests for each day\n",
    "avg_total_guests_per_day = finalDf.groupby('Day', observed=False)['Total guests'].mean()\n",
    "\n",
    "# Define the order of the days\n",
    "day_order = ['Monday', 'Tuesday', 'Wednesday', 'Thursday', 'Friday', 'Saturday', 'Sunday']\n",
    "\n",
    "# Convert 'Day' column to categorical data type with the defined order\n",
    "finalDf['Day'] = pd.Categorical(finalDf['Day'], categories=day_order, ordered=True)\n",
    "\n",
    "# Create a line plot\n",
    "plt.figure(figsize=(10, 6))\n",
    "avg_total_guests_per_day.plot(marker='o', color='b', linestyle='-')\n",
    "plt.title('Average Total Guests per Day')\n",
    "plt.xlabel('Day')\n",
    "plt.ylabel('Average Total Guests')\n",
    "plt.xticks(rotation=45)\n",
    "plt.grid(True)\n",
    "plt.show()\n",
    "\n",
    "# Create a box plot\n",
    "plt.figure(figsize=(10, 6))\n",
    "sns.boxplot(x='Total guests', y='Day', data=finalDf, hue='Day', palette='Set3', dodge=False, legend=False)\n",
    "plt.title('Distribution of Total Guests by Day')\n",
    "plt.xlabel('Day')\n",
    "plt.ylabel('Total Guests')\n",
    "plt.grid(True)\n",
    "plt.show()\n"
   ]
  },
  {
   "cell_type": "markdown",
   "metadata": {},
   "source": [
    "The day of the week significantly impacts the flow of visitors, with Saturdays emerging as the busiest, closely followed by Fridays. Sundays also tend to be bustling, albeit to a lesser extent. Conversely, weekdays witness noticeably fewer patrons, marking a quieter period for business."
   ]
  },
  {
   "cell_type": "markdown",
   "metadata": {},
   "source": [
    "### Data Preparation"
   ]
  }
 ],
 "metadata": {
  "kernelspec": {
   "display_name": "Python 3",
   "language": "python",
   "name": "python3"
  },
  "language_info": {
   "codemirror_mode": {
    "name": "ipython",
    "version": 3
   },
   "file_extension": ".py",
   "mimetype": "text/x-python",
   "name": "python",
   "nbconvert_exporter": "python",
   "pygments_lexer": "ipython3",
   "version": "3.11.0"
  }
 },
 "nbformat": 4,
 "nbformat_minor": 2
}
